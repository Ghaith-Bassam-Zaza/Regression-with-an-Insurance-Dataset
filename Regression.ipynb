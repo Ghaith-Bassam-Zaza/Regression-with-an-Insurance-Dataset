{
 "cells": [
  {
   "cell_type": "code",
   "execution_count": 1,
   "metadata": {},
   "outputs": [
    {
     "name": "stderr",
     "output_type": "stream",
     "text": [
      "c:\\Users\\Ghaith\\Desktop\\ML\\projects\\venv12\\Lib\\site-packages\\tqdm\\auto.py:21: TqdmWarning: IProgress not found. Please update jupyter and ipywidgets. See https://ipywidgets.readthedocs.io/en/stable/user_install.html\n",
      "  from .autonotebook import tqdm as notebook_tqdm\n"
     ]
    }
   ],
   "source": [
    "import numpy as np\n",
    "import pandas as pd\n",
    "import optuna\n",
    "import seaborn as sns\n",
    "import matplotlib.pyplot as plt\n",
    "import re\n",
    "import warnings\n",
    "warnings.filterwarnings('ignore')"
   ]
  },
  {
   "cell_type": "code",
   "execution_count": 2,
   "metadata": {},
   "outputs": [],
   "source": [
    "train_df = pd.read_csv('playground-series-s4e12/train.csv', index_col='id')\n",
    "test_df = pd.read_csv('playground-series-s4e12/test.csv', index_col='id')"
   ]
  },
  {
   "cell_type": "code",
   "execution_count": 3,
   "metadata": {},
   "outputs": [],
   "source": [
    "from datetime import timedelta\n",
    "train_df.columns = train_df.columns.str.lower().str.replace(' ', '_')\n",
    "test_df.columns = test_df.columns.str.lower().str.replace(' ', '_')\n",
    "def feature_transformer(df):\n",
    "\n",
    "    df['policy_start_date'] = pd.to_datetime(df['policy_start_date'])\n",
    "\n",
    "    df['year'] = df['policy_start_date'].dt.year\n",
    "    df['day'] = df['policy_start_date'].dt.day\n",
    "    df['month'] = df['policy_start_date'].dt.month\n",
    "    df['day_of_year'] = df['policy_start_date'].dt.dayofyear\n",
    "    df['day_of_week'] = df['policy_start_date'].dt.weekday\n",
    "    df['sin_day_of_week'] = np.sin(2 * np.pi * df['day_of_week'] / 7)\n",
    "    df['cos_day_of_week'] = np.cos(2 * np.pi * df['day_of_week'] / 7)\n",
    "    \n",
    "    df[\"seconds since 1970\"] = df['policy_start_date'].astype(\"int64\") // 10**9\n",
    "    \n",
    "    df['days_passed'] = (df['policy_start_date'].max() - df['policy_start_date']).dt.days\n",
    "    \n",
    "    df['cat_day_of_week'] = df['day_of_week'].astype('string')\n",
    "    df['cat_year'] = df['year'].astype('string')\n",
    "    df['cat_day'] = df['day'].astype('string')\n",
    "    df['cat_day_of_year'] = df['day_of_year'].astype('string')\n",
    "    df['cat_month'] = df['month'].astype('string')\n",
    "    \n",
    "\n",
    "    policy_starts_min = df['policy_start_date'].min()  # 2019-08-17\n",
    "    year = policy_starts_min.year  \n",
    "    \n",
    "    if policy_starts_min >= pd.Timestamp(f'{year}-01-01'):\n",
    "        fiscal_year_start = pd.Timestamp(f'{year}-08-01')\n",
    "    else:\n",
    "        fiscal_year_start = pd.Timestamp(f'{year-1}-08-01')\n",
    "\n",
    "    \n",
    "    df['time_from_fiscal_year'] = (df['policy_start_date'] - fiscal_year_start).dt.days\n",
    "    df['seconds_from_fiscal_year'] = (df['policy_start_date'] - fiscal_year_start).dt.total_seconds()\n",
    "\n",
    "    new_date = policy_starts_min - timedelta(days=1)\n",
    "    \n",
    "    df['time_from_first_policy'] = (df['policy_start_date'] - new_date).dt.days\n",
    "    \n",
    "    df['time_from_first_policy_seconds'] = (df['policy_start_date'] - new_date).dt.total_seconds()\n",
    "    \n",
    "    df['Days Passed'] = (df['policy_start_date'].max() - df['policy_start_date']).dt.days\n",
    "\n",
    "    df['claims_vs_duration'] = df['previous_claims'] / df['insurance_duration']\n",
    "    df['days_from_2019_crisis'] = (df['policy_start_date'] - pd.Timestamp('2019-01-01')).dt.days\n",
    "    df['revenue_per_dependent'] = (df['annual_income'] / df['number_of_dependents'] + 1)\n",
    "    df['ratio_of_doubts'] = (df['previous_claims'] + 1) / df['annual_income'] # NEW\n",
    "    \n",
    "    df['marital_status_customer_feedback'] = df['marital_status'] + df['customer_feedback']\n",
    "    df['customer_feedback_property_type'] = df['customer_feedback'] + df['property_type']\n",
    "    df['customer_feedback_year'] = df['customer_feedback'] + df['cat_year'] # тут упала\n",
    "    df['marital_status_year'] = df['marital_status'] + df['cat_year']\n",
    "    df['exercise_frequency_year'] = df['exercise_frequency'] + df['cat_year']\n",
    "    df['customer_feedback_smoking_status'] = df['customer_feedback'] + df['smoking_status']\n",
    "    df['customer_feedback_property_type'] = df['customer_feedback'] + df['property_type']\n",
    "    df['year_day_of_week'] = df['cat_year'] + df['cat_day_of_week']\n",
    "    df['property_type_year'] = df['property_type'] + df['cat_year']\n",
    "    df['policy_type_year'] = df['policy_type'] + df['cat_year']\n",
    "    df['gender_marital_status'] = df['gender'] + df['marital_status']\n",
    "    df['education_level_customer_feedback'] = df['education_level'] + df['customer_feedback']\n",
    "    df['gender_year'] = df['gender'] + df['cat_year']\n",
    "    df['marital_status_day_of_week'] = df['marital_status'] + df['cat_day_of_week']\n",
    "    df['occupation_customer_feedback'] = df['occupation'] + df['customer_feedback']\n",
    "    df['occupation_year'] = df['occupation'] + df['cat_year']\n",
    "    df['location_customer_feedback'] = df['location'] + df['customer_feedback'] \n",
    "    df['location_day_of_week'] = df['location'] + df['cat_day_of_week']\n",
    "    df['education_level_year'] = df['education_level'] + df['cat_year']\n",
    "    df['customer_feedback_month'] = df['customer_feedback'] + df['cat_month']\n",
    "    df['marital_status_day'] = df['marital_status'] + df['cat_day']\n",
    "    df['exercise_frequency_property_type'] = df['exercise_frequency'] + df['property_type']\n",
    "    df['education_level_day_of_week'] = df['education_level'] + df['cat_day_of_week']\n",
    "\n",
    "    df.drop(columns=['time_from_first_policy', 'policy_start_date'], inplace=True)\n",
    "\n",
    "    return df"
   ]
  },
  {
   "cell_type": "code",
   "execution_count": 4,
   "metadata": {},
   "outputs": [],
   "source": [
    "def columns_imputer(df):\n",
    "    for c in df.columns:\n",
    "        df[f\"is_{c}_na\"] = df[c].isna().astype(int)\n",
    "\n",
    "    return df"
   ]
  },
  {
   "cell_type": "code",
   "execution_count": 5,
   "metadata": {},
   "outputs": [
    {
     "name": "stdout",
     "output_type": "stream",
     "text": [
      "Column age has 0 zeros\n",
      "Column annual_income has 0 zeros\n",
      "Column number_of_dependents has 218124 zeros\n",
      "Column health_score has 0 zeros\n",
      "Column previous_claims has 305433 zeros\n",
      "Column vehicle_age has 61615 zeros\n",
      "Column credit_score has 0 zeros\n",
      "Column insurance_duration has 0 zeros\n"
     ]
    }
   ],
   "source": [
    "num_cols = ['age', 'annual_income', 'number_of_dependents', 'health_score','previous_claims', 'vehicle_age', 'credit_score', 'insurance_duration']\n",
    "\n",
    "for col in num_cols:\n",
    "    print(f\"Column {col} has {train_df[train_df[col] == 0].shape[0]} zeros\")"
   ]
  },
  {
   "cell_type": "code",
   "execution_count": 6,
   "metadata": {},
   "outputs": [],
   "source": [
    "def num_to_cat(df):\n",
    "    global num_cols\n",
    "\n",
    "    for col in num_cols:\n",
    "        df[f\"categorial_{col}\"] = df[col].astype('category')\n",
    "\n",
    "    return df"
   ]
  },
  {
   "cell_type": "code",
   "execution_count": 7,
   "metadata": {},
   "outputs": [],
   "source": [
    "X = train_df.drop('premium_amount', axis=1)\n",
    "y = train_df['premium_amount']\n",
    "\n",
    "y_log1p = np.log1p(y)\n",
    "\n",
    "X = feature_transformer(X)\n",
    "X = columns_imputer(X)\n",
    "X = num_to_cat(X) # categorical_age\n",
    "\n",
    "cats = X.select_dtypes(include=['string', 'category', 'object']).columns.tolist()\n",
    "nums = X.select_dtypes(include=['number']).columns.tolist()"
   ]
  },
  {
   "cell_type": "code",
   "execution_count": 8,
   "metadata": {},
   "outputs": [],
   "source": [
    "for col in cats:\n",
    "    X[col] = X[col].astype('string')\n",
    "\n",
    "\n",
    "X[cats] = X[cats].fillna('None').astype('string')\n",
    "X[nums] = X[nums].fillna(-999).astype(float)"
   ]
  },
  {
   "cell_type": "code",
   "execution_count": 9,
   "metadata": {},
   "outputs": [],
   "source": [
    "from sklearn.model_selection import KFold, train_test_split\n",
    "from sklearn.metrics import mean_squared_error, mean_squared_log_error\n",
    "from catboost import CatBoostRegressor, Pool\n",
    "\n",
    "class CatboostWithOptuna:\n",
    "    def __init__(self, X, y, n_folds=10, random_state=42, verbose=0, task_type='GPU', optuna_params=None):\n",
    "        self.X = X\n",
    "        self.y = y\n",
    "        self.n_folds = n_folds\n",
    "        self.random_state = random_state\n",
    "        self.verbose = verbose\n",
    "        self.task_type = task_type\n",
    "        self.best_model_params = {}\n",
    "\n",
    "        # Placeholders\n",
    "        self.oof_predictions = []  # Out-of-fold predictions\n",
    "        self.catboost_params_history = []  # История гиперпараметров\n",
    "        self.best_score = float('inf')  # Лучший результат\n",
    "\n",
    "    def _suggest_hyperparams(self, trial):\n",
    "        return {\n",
    "            'iterations' : trial.suggest_int('iterations', 400, 1000),\n",
    "            'learning_rate' : trial.suggest_float('learning_rate', 0.01, 0.4, log=True),\n",
    "            'depth' : trial.suggest_int('depth', 4, 9),\n",
    "            'l2_leaf_reg' : trial.suggest_float('l2_leaf_reg', 0.1, 1, log=True),\n",
    "            'loss_function' : trial.suggest_categorical('loss_function', ['RMSE']),\n",
    "            'random_strength' : trial.suggest_float('random_strength', 1e-3, 1, log=True),\n",
    "            'bagging_temperature' : trial.suggest_float('bagging_temperature', 1e-2, 1, log=True)\n",
    "        }\n",
    "    \n",
    "    def objective(self, trial):\n",
    "        \n",
    "        params = self._suggest_hyperparams(trial)\n",
    "\n",
    "        cat_features = self.X.select_dtypes(include=['category', 'string', 'object']).columns.tolist()\n",
    "\n",
    "        # K-fold CV\n",
    "        kf = KFold(n_splits=self.n_folds, shuffle=True, random_state=self.random_state)\n",
    "        fold_rmsle = []\n",
    "        oof_preds = np.zeros((self.X.shape[0]))\n",
    "\n",
    "        for fold, (train_index, val_index) in enumerate(kf.split(self.X)):\n",
    "            print(f\"Fold {fold + 1} out of {self.n_folds}\")\n",
    "\n",
    "            X_train, X_val = self.X.iloc[train_index], self.X.iloc[val_index]\n",
    "            y_train, y_val = self.y.iloc[train_index], self.y.iloc[val_index]\n",
    "\n",
    "            # Model creation \n",
    "            model = CatBoostRegressor(iterations=params['iterations'],\n",
    "                                      learning_rate=params['learning_rate'],\n",
    "                                      depth=params['depth'],\n",
    "                                      l2_leaf_reg=params['l2_leaf_reg'],\n",
    "                                      loss_function=params['loss_function'],\n",
    "                                      random_strength=params['random_strength'],\n",
    "                                      bagging_temperature=params['bagging_temperature'],\n",
    "                                     verbose=0,\n",
    "                                     task_type=self.task_type)\n",
    "            \n",
    "            model.fit(X_train, y_train, cat_features=cat_features)\n",
    "\n",
    "            val_pred = model.predict(X_val)\n",
    "\n",
    "            oof_preds[val_index] = val_pred\n",
    "\n",
    "            fold_rmsle.append(mean_squared_error(y_val, val_pred, squared=False))\n",
    "        \n",
    "        # save oof predictions\n",
    "        self.oof_predictions.append(oof_preds.copy())\n",
    "\n",
    "        mean_rmsle = np.mean(fold_rmsle)\n",
    "        self.catboost_params_history.append({**params, 'RMSE': mean_rmsle})\n",
    "\n",
    "        return mean_rmsle\n",
    "\n",
    "        \n",
    "\n",
    "\n",
    "    def optimize(self,n_trials=10):\n",
    "        study = optuna.create_study(direction='minimize')\n",
    "        study.optimize(self.objective, n_trials=n_trials)\n",
    "        self.best_model_params = study.best_params\n",
    "        self.best_score = study.best_value\n",
    "\n",
    "        return study\n",
    "\n",
    "    @property\n",
    "    def oof(self):\n",
    "        if not self.oof_predictions:\n",
    "            raise ValueError(\"No OOF preds available\")\n",
    "        return self.oof_predictions"
   ]
  },
  {
   "cell_type": "code",
   "execution_count": 10,
   "metadata": {},
   "outputs": [],
   "source": [
    "from sklearn.model_selection import train_test_split\n",
    "\n",
    "X_train, X_test, y_train, y_test = train_test_split(\n",
    "    X, y, test_size=0.2, random_state=42)\n",
    "\n",
    "y_train_log1p = np.log1p(y_train)\n",
    "y_test_log1p = np.log1p(y_test)"
   ]
  },
  {
   "cell_type": "code",
   "execution_count": 11,
   "metadata": {},
   "outputs": [],
   "source": [
    "catboost_params = {'iterations': 719, 'learning_rate': 0.050771585717022505, 'depth': 9, 'l2_leaf_reg': 0.35647655856918115, 'loss_function': 'RMSE', 'random_strength': 0.06546237246369487, 'bagging_temperature': 0.011774942898945484}"
   ]
  },
  {
   "cell_type": "code",
   "execution_count": 12,
   "metadata": {},
   "outputs": [],
   "source": [
    "#Function for creating oof predictions (on test data)\n",
    "def cv_test_preds(X, y, X_test,n_folds=5):\n",
    "\n",
    "    folds = KFold(n_splits=n_folds, shuffle=True, random_state=42)\n",
    "    test_preds = []\n",
    "\n",
    "    for fold, (train_idx, val_idx) in enumerate(folds.split(X, y)):\n",
    "\n",
    "        X_train, y_train = X.iloc[train_idx], y.iloc[train_idx]\n",
    "\n",
    "        # Finding categorical features\n",
    "        cat_features = X_test.select_dtypes(exclude=['number']).columns.tolist()\n",
    "\n",
    "\n",
    "        model = CatBoostRegressor(**catboost_params,\n",
    "        random_state=42,\n",
    "        task_type='CPU',\n",
    "        verbose = 0,\n",
    "        cat_features=cat_features)\n",
    "        model.fit(X_train, y_train, cat_features=cat_features)\n",
    "\n",
    "        # Making predictions\n",
    "        test_preds.append(model.predict(X_test))\n",
    "\n",
    "    return test_preds"
   ]
  },
  {
   "cell_type": "code",
   "execution_count": 13,
   "metadata": {},
   "outputs": [],
   "source": [
    "X_test = test_df\n",
    "\n",
    "X_test = feature_transformer(X_test)\n",
    "X_test = columns_imputer(X_test)\n",
    "X_test = num_to_cat(X_test) # categorical_age\n",
    "\n",
    "cats = X_test.select_dtypes(include=['string', 'category', 'object']).columns.tolist()\n",
    "nums = X_test.select_dtypes(include=['number']).columns.tolist()\n",
    "\n",
    "# # Ensure that 'None' is included as a category\n",
    "# X[cats] = X[cats].fillna('None').astype('string')\n",
    "# X[nums] = X[nums].fillna(-999).astype(float)\n",
    "\n",
    "#X = feature_transformer(X)"
   ]
  },
  {
   "cell_type": "code",
   "execution_count": 14,
   "metadata": {},
   "outputs": [],
   "source": [
    "for col in cats:\n",
    "    X_test[col] = X_test[col].astype('string')\n",
    "\n",
    "\n",
    "X_test[cats] = X_test[cats].fillna('None').astype('string')\n",
    "X_test[nums] = X_test[nums].fillna(-999).astype(float)"
   ]
  },
  {
   "cell_type": "code",
   "execution_count": 15,
   "metadata": {},
   "outputs": [],
   "source": [
    "def cv_test_preds(X, y, X_test, n_folds=5):\n",
    "    folds = KFold(n_splits=n_folds, shuffle=True, random_state=42)\n",
    "    test_preds = []\n",
    "\n",
    "    for fold, (train_idx, val_idx) in enumerate(folds.split(X, y)):\n",
    "        X_train, y_train = X.iloc[train_idx], y.iloc[train_idx]\n",
    "\n",
    "        cat_features = X.select_dtypes(exclude=['number']).columns.tolist()\n",
    "\n",
    "        model = CatBoostRegressor(\n",
    "            **catboost_params,\n",
    "            random_state=42,\n",
    "            task_type='CPU',\n",
    "            verbose=0,\n",
    "            cat_features=cat_features\n",
    "        )\n",
    "        model.fit(X_train, y_train, cat_features=cat_features)\n",
    "\n",
    "        test_preds.append(model.predict(X_test))\n",
    "\n",
    "    return test_preds"
   ]
  },
  {
   "cell_type": "code",
   "execution_count": 16,
   "metadata": {},
   "outputs": [],
   "source": [
    "X_final_preds = cv_test_preds(X, y_log1p, X_test, n_folds=5)\n",
    "\n",
    "preds = sum(np.expm1(X_final_preds))/len(X_final_preds)"
   ]
  },
  {
   "cell_type": "code",
   "execution_count": 17,
   "metadata": {},
   "outputs": [
    {
     "name": "stdout",
     "output_type": "stream",
     "text": [
      "DONE!\n"
     ]
    }
   ],
   "source": [
    "sample_submission = pd.read_csv('playground-series-s4e12/sample_submission.csv')\n",
    "\n",
    "sample_submission['Premium Amount'] = preds\n",
    "sample_submission.to_csv(\"submission.csv\", index = False)\n",
    "\n",
    "print('DONE!')"
   ]
  }
 ],
 "metadata": {
  "kernelspec": {
   "display_name": "Python 3",
   "language": "python",
   "name": "python3"
  },
  "language_info": {
   "codemirror_mode": {
    "name": "ipython",
    "version": 3
   },
   "file_extension": ".py",
   "mimetype": "text/x-python",
   "name": "python",
   "nbconvert_exporter": "python",
   "pygments_lexer": "ipython3",
   "version": "3.12.3"
  }
 },
 "nbformat": 4,
 "nbformat_minor": 2
}
